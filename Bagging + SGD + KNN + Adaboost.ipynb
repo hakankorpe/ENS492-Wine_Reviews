{
 "cells":[
  {
   "cell_type":"code",
   "source":[
    "import pandas as pd\n",
    "from sklearn.preprocessing import OneHotEncoder\n",
    "from sklearn.tree import DecisionTreeClassifier\n",
    "from sklearn.ensemble import BaggingClassifier\n",
    "from sklearn.model_selection import train_test_split\n",
    "\n",
    "# Load data\n",
    "df = pd.read_csv('decisiontree_dataframe.csv', delimiter=';')\n",
    "\n",
    "df['points_nominal'] = pd.cut(df['points'], [80, 84, 88, 92, 96, 100], \n",
    "                              labels=['normal quality', 'good quality', 'high quality', \n",
    "                                      'very high quality', 'excellent quality'])\n",
    "\n",
    "df = df.drop(columns=['points'])\n",
    "df= df.dropna()\n",
    "df.info()\n",
    "\n",
    "# Define input and output features\n",
    "X = df[['country', 'province', 'variety', 'winery', 'color']]\n",
    "y = df['points_nominal']\n",
    "\n",
    "# One-hot encode input features\n",
    "encoder = OneHotEncoder()\n",
    "X_encoded = encoder.fit_transform(X)\n",
    "\n",
    "# Split data into training and testing sets\n",
    "X_train, X_test, y_train, y_test = train_test_split(X_encoded, y, test_size=0.2, random_state=42)\n",
    "\n",
    "# Define decision tree model\n",
    "base_model = DecisionTreeClassifier()\n",
    "\n",
    "# Define bagging classifier with decision tree base model\n",
    "model = BaggingClassifier(base_estimator=base_model, n_estimators=50)\n",
    "\n",
    "# Fit bagging model\n",
    "model.fit(X_train, y_train)\n",
    "\n",
    "# Evaluate model\n",
    "score = model.score(X_test, y_test)\n",
    "print('Accuracy:', score)"
   ],
   "execution_count":3,
   "outputs":[
    {
     "name":"stdout",
     "text":[
      "<class 'pandas.core.frame.DataFrame'>\n",
      "Int64Index: 207029 entries, 0 to 207931\n",
      "Data columns (total 6 columns):\n",
      " #   Column          Non-Null Count   Dtype   \n",
      "---  ------          --------------   -----   \n",
      " 0   country         207029 non-null  object  \n",
      " 1   province        207029 non-null  object  \n",
      " 2   variety         207029 non-null  object  \n",
      " 3   winery          207029 non-null  object  \n",
      " 4   color           207029 non-null  object  \n",
      " 5   points_nominal  207029 non-null  category\n",
      "dtypes: category(1), object(5)\n",
      "memory usage: 9.7+ MB\n",
      "Accuracy: 0.5832005023426556\n"
     ],
     "output_type":"stream"
    }
   ],
   "metadata":{
    "datalore":{
     "node_id":"gHn8toAKA7r4RneSmyfvY2",
     "type":"CODE",
     "hide_input_from_viewers":true,
     "hide_output_from_viewers":true
    }
   }
  },
  {
   "cell_type":"code",
   "source":[
    "import pandas as pd\n",
    "from sklearn.preprocessing import OneHotEncoder\n",
    "from sklearn.linear_model import SGDClassifier\n",
    "from sklearn.model_selection import train_test_split\n",
    "\n",
    "# Load data\n",
    "df = pd.read_csv('decisiontree_dataframe.csv', delimiter=';')\n",
    "\n",
    "df['points_nominal'] = pd.cut(df['points'], [80, 84, 88, 92, 96, 100], \n",
    "                              labels=['normal quality', 'good quality', 'high quality', \n",
    "                                      'very high quality', 'excellent quality'])\n",
    "\n",
    "df = df.drop(columns=['points'])\n",
    "df= df.dropna()\n",
    "df.info()\n",
    "\n",
    "# Define input and output features\n",
    "X = df[['country', 'province', 'variety', 'winery', 'color']]\n",
    "y = df['points_nominal']\n",
    "\n",
    "# One-hot encode input features\n",
    "encoder = OneHotEncoder()\n",
    "X_encoded = encoder.fit_transform(X)\n",
    "\n",
    "# Split data into training and testing sets\n",
    "X_train, X_test, y_train, y_test = train_test_split(X_encoded, y, test_size=0.2, random_state=42)\n",
    "\n",
    "# Initialize SGD classifier\n",
    "model = SGDClassifier(loss='modified_huber', penalty='elasticnet', max_iter=1000, tol=1e-3, random_state=42)\n",
    "\n",
    "# Partially fit the model using the training data\n",
    "batch_size = 4500\n",
    "for i in range(0, X_train.get_shape()[0], batch_size):\n",
    "    X_batch = X_train[i:i+batch_size]\n",
    "    y_batch = y_train[i:i+batch_size]\n",
    "    model.partial_fit(X_batch, y_batch, classes=y.unique())\n",
    "\n",
    "# Evaluate model\n",
    "score = model.score(X_test, y_test)\n",
    "print('Accuracy:', score)"
   ],
   "execution_count":16,
   "outputs":[
    {
     "name":"stdout",
     "text":[
      "<class 'pandas.core.frame.DataFrame'>\n",
      "Int64Index: 207029 entries, 0 to 207931\n",
      "Data columns (total 6 columns):\n",
      " #   Column          Non-Null Count   Dtype   \n",
      "---  ------          --------------   -----   \n",
      " 0   country         207029 non-null  object  \n",
      " 1   province        207029 non-null  object  \n",
      " 2   variety         207029 non-null  object  \n",
      " 3   winery          207029 non-null  object  \n",
      " 4   color           207029 non-null  object  \n",
      " 5   points_nominal  207029 non-null  category\n",
      "dtypes: category(1), object(5)\n",
      "memory usage: 9.7+ MB\n",
      "Accuracy: 0.5004105685166401\n"
     ],
     "output_type":"stream"
    }
   ],
   "metadata":{
    "datalore":{
     "node_id":"7sZLsqV2qEoz0yvjkaQBWS",
     "type":"CODE",
     "hide_input_from_viewers":true,
     "hide_output_from_viewers":true
    }
   }
  },
  {
   "cell_type":"code",
   "source":[
    "import pandas as pd\n",
    "from sklearn.preprocessing import LabelEncoder\n",
    "from sklearn.neighbors import KDTree\n",
    "from sklearn.model_selection import train_test_split\n",
    "\n",
    "# Load data\n",
    "df = pd.read_csv('decisiontree_dataframe.csv', delimiter=';')\n",
    "\n",
    "df['points_nominal'] = pd.cut(df['points'], [80, 84, 88, 92, 96, 100], \n",
    "                              labels=['normal quality', 'good quality', 'high quality', 'very high quality', 'excellent quality'])\n",
    "\n",
    "df = df.drop(columns=['points'])\n",
    "df = df.dropna()\n",
    "df.info()\n",
    "\n",
    "# Encode categorical features\n",
    "le = LabelEncoder()\n",
    "df['country'] = le.fit_transform(df['country'])\n",
    "df['province'] = le.fit_transform(df['province'])\n",
    "df['variety'] = le.fit_transform(df['variety'])\n",
    "df['winery'] = le.fit_transform(df['winery'])\n",
    "df['color'] = le.fit_transform(df['color'])\n",
    "df['points_nominal'] = le.fit_transform(df['points_nominal'])\n",
    "\n",
    "# Define input and output features\n",
    "X = df[['country', 'province', 'variety', 'winery', 'color']]\n",
    "y = df['points_nominal']\n",
    "\n",
    "# Split data into training and testing sets\n",
    "X_train, X_test, y_train, y_test = train_test_split(X, y, test_size=0.2, random_state=42)\n",
    "\n",
    "# Fit KDTree model\n",
    "kdtree = KDTree(X_train)\n",
    "\n",
    "# Find k nearest neighbors for each point in test set\n",
    "k = 10\n",
    "distances, indices = kdtree.query(X_test, k)\n",
    "\n",
    "# Make predictions using majority vote of k nearest neighbors\n",
    "y_pred = []\n",
    "for i in range(len(X_test)):\n",
    "    neighbors = y_train.iloc[indices[i]]\n",
    "    y_pred.append(neighbors.value_counts().index[0])\n",
    "\n",
    "# Evaluate model\n",
    "accuracy = sum(y_pred == y_test) \/ len(y_test)\n",
    "print('Accuracy:', accuracy)"
   ],
   "execution_count":23,
   "outputs":[
    {
     "name":"stdout",
     "text":[
      "<class 'pandas.core.frame.DataFrame'>\n",
      "Int64Index: 207029 entries, 0 to 207931\n",
      "Data columns (total 6 columns):\n",
      " #   Column          Non-Null Count   Dtype   \n",
      "---  ------          --------------   -----   \n",
      " 0   country         207029 non-null  object  \n",
      " 1   province        207029 non-null  object  \n",
      " 2   variety         207029 non-null  object  \n",
      " 3   winery          207029 non-null  object  \n",
      " 4   color           207029 non-null  object  \n",
      " 5   points_nominal  207029 non-null  category\n",
      "dtypes: category(1), object(5)\n",
      "memory usage: 9.7+ MB\n",
      "Accuracy: 0.5268560112061054\n"
     ],
     "output_type":"stream"
    }
   ],
   "metadata":{
    "datalore":{
     "node_id":"ClZAEp3e5Xk0MzeowBYshk",
     "type":"CODE",
     "hide_input_from_viewers":true,
     "hide_output_from_viewers":true
    }
   }
  },
  {
   "cell_type":"code",
   "source":[
    "import pandas as pd\n",
    "from sklearn.preprocessing import OneHotEncoder\n",
    "from sklearn.ensemble import AdaBoostClassifier\n",
    "from sklearn.tree import DecisionTreeClassifier\n",
    "from sklearn.model_selection import train_test_split\n",
    "\n",
    "# Load data\n",
    "df = pd.read_csv('decisiontree_dataframe.csv', delimiter=';')\n",
    "\n",
    "df['points_nominal'] = pd.cut(df['points'], [80, 84, 88, 92, 96, 100], \n",
    "                              labels=['normal quality', 'good quality', 'high quality', \n",
    "                                      'very high quality', 'excellent quality'])\n",
    "\n",
    "df = df.drop(columns=['points'])\n",
    "df= df.dropna()\n",
    "df.info()\n",
    "\n",
    "# Define input and output features\n",
    "X = df[['country', 'province', 'variety', 'winery', 'color']]\n",
    "y = df['points_nominal']\n",
    "\n",
    "# One-hot encode input features\n",
    "encoder = OneHotEncoder()\n",
    "X_encoded = encoder.fit_transform(X)\n",
    "\n",
    "# Split data into training and testing sets\n",
    "X_train, X_test, y_train, y_test = train_test_split(X_encoded, y, test_size=0.2, random_state=42)\n",
    "\n",
    "# Fit AdaBoost model with decision tree classifier as base estimator\n",
    "base_estimator = DecisionTreeClassifier(max_depth=2)\n",
    "model = AdaBoostClassifier(base_estimator=base_estimator, n_estimators=100)\n",
    "model.fit(X_train, y_train)\n",
    "\n",
    "# Evaluate model\n",
    "score = model.score(X_test, y_test)\n",
    "print('Accuracy:', score)"
   ],
   "execution_count":24,
   "outputs":[
    {
     "name":"stdout",
     "text":[
      "<class 'pandas.core.frame.DataFrame'>\n",
      "Int64Index: 207029 entries, 0 to 207931\n",
      "Data columns (total 6 columns):\n",
      " #   Column          Non-Null Count   Dtype   \n",
      "---  ------          --------------   -----   \n",
      " 0   country         207029 non-null  object  \n",
      " 1   province        207029 non-null  object  \n",
      " 2   variety         207029 non-null  object  \n",
      " 3   winery          207029 non-null  object  \n",
      " 4   color           207029 non-null  object  \n",
      " 5   points_nominal  207029 non-null  category\n",
      "dtypes: category(1), object(5)\n",
      "memory usage: 9.7+ MB\n",
      "Accuracy: 0.4709462396754094\n"
     ],
     "output_type":"stream"
    }
   ],
   "metadata":{
    "datalore":{
     "node_id":"u1m4g4h4JZ2mGVZ9tCjB83",
     "type":"CODE",
     "hide_input_from_viewers":true,
     "hide_output_from_viewers":true
    }
   }
  },
  {
   "cell_type":"code",
   "source":[
    "import pandas as pd\n",
    "from sklearn.preprocessing import OneHotEncoder\n",
    "from sklearn.ensemble import RandomForestClassifier\n",
    "from sklearn.model_selection import train_test_split\n",
    "\n",
    "# Load data\n",
    "df = pd.read_csv('decisiontree_dataframe.csv', delimiter=';')\n",
    "\n",
    "df['points_nominal'] = pd.cut(df['points'], [80, 84, 88, 92, 96, 100], \n",
    "                              labels=['normal quality', 'good quality', 'high quality', \n",
    "                                      'very high quality', 'excellent quality'])\n",
    "\n",
    "df = df.drop(columns=['points'])\n",
    "df= df.dropna()\n",
    "df.info()\n",
    "\n",
    "# Define input and output features\n",
    "X = df[['country', 'province', 'variety', 'winery', 'color']]\n",
    "y = df['points_nominal']\n",
    "\n",
    "# One-hot encode input features\n",
    "encoder = OneHotEncoder()\n",
    "X_encoded = encoder.fit_transform(X)\n",
    "\n",
    "# Split data into training and testing sets\n",
    "X_train, X_test, y_train, y_test = train_test_split(X_encoded, y, test_size=0.2, random_state=42)\n",
    "\n",
    "# Initialize Online Random Forest model\n",
    "model = RandomForestClassifier(n_estimators=100, max_depth=10, oob_score=True)\n",
    "\n",
    "# Initialize an empty buffer to store the training data\n",
    "X_buffer = []\n",
    "y_buffer = []\n",
    "\n",
    "# Define the size of the buffer and the size of the mini-batches\n",
    "buffer_size = 10000\n",
    "batch_size = 1000\n",
    "\n",
    "# Fit the model to the data in mini-batches\n",
    "for i in range(0, X_train.get_shape()[0], batch_size):\n",
    "    X_batch = X_train[i:i+batch_size]\n",
    "    y_batch = y_train[i:i+batch_size]\n",
    "    \n",
    "    # Add the mini-batch to the buffer\n",
    "    X_buffer.append(X_batch)\n",
    "    y_buffer.append(y_batch)\n",
    "    \n",
    "    # If the buffer is full, fit the model to the buffer and clear it\n",
    "    if len(X_buffer) == buffer_size \/\/ batch_size:\n",
    "        model.partial_fit(X_buffer, y_buffer, classes=y.unique())\n",
    "        X_buffer = []\n",
    "        y_buffer = []\n",
    "\n",
    "# If there is any data left in the buffer, fit the model to it\n",
    "if len(X_buffer) > 0:\n",
    "    model.partial_fit(X_buffer, y_buffer, classes=y.unique())\n",
    "\n",
    "# Evaluate model\n",
    "score = model.score(X_test, y_test)\n",
    "print('Accuracy:', score)"
   ],
   "execution_count":1,
   "outputs":[
    {
     "name":"stdout",
     "text":[
      "<class 'pandas.core.frame.DataFrame'>\n",
      "Int64Index: 207029 entries, 0 to 207931\n",
      "Data columns (total 6 columns):\n",
      " #   Column          Non-Null Count   Dtype   \n",
      "---  ------          --------------   -----   \n",
      " 0   country         207029 non-null  object  \n",
      " 1   province        207029 non-null  object  \n",
      " 2   variety         207029 non-null  object  \n",
      " 3   winery          207029 non-null  object  \n",
      " 4   color           207029 non-null  object  \n",
      " 5   points_nominal  207029 non-null  category\n",
      "dtypes: category(1), object(5)\n",
      "memory usage: 9.7+ MB\n"
     ],
     "output_type":"stream"
    },
    {
     "ename":"AttributeError",
     "evalue":"AttributeError: 'RandomForestClassifier' object has no attribute 'partial_fit'",
     "traceback":[
      "\u001b[0;31m---------------------------------------------------------------------------",
      "Traceback (most recent call last)",
      "    at line 50 in <module>",
      "AttributeError: 'RandomForestClassifier' object has no attribute 'partial_fit'"
     ],
     "output_type":"error"
    }
   ],
   "metadata":{
    "datalore":{
     "node_id":"xRezmZgOBpnt3ElbSYVrQs",
     "type":"CODE",
     "hide_input_from_viewers":true,
     "hide_output_from_viewers":true
    }
   }
  }
 ],
 "metadata":{
  "kernelspec":{
   "display_name":"Python",
   "language":"python",
   "name":"python"
  },
  "datalore":{
   "computation_mode":"JUPYTER",
   "package_manager":"pip",
   "base_environment":"default",
   "packages":[
    
   ],
   "report_row_ids":[
    
   ],
   "version":3
  }
 },
 "nbformat":4,
 "nbformat_minor":4
}